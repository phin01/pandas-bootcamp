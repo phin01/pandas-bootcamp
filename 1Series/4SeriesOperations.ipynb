{
 "cells": [
  {
   "cell_type": "code",
   "execution_count": 1,
   "id": "54a06848",
   "metadata": {},
   "outputs": [],
   "source": [
    "import pandas as pd"
   ]
  },
  {
   "cell_type": "markdown",
   "id": "cc22132c",
   "metadata": {},
   "source": [
    "# Load a Series from CSV"
   ]
  },
  {
   "cell_type": "code",
   "execution_count": 2,
   "id": "237a62d6",
   "metadata": {
    "collapsed": true
   },
   "outputs": [
    {
     "name": "stderr",
     "output_type": "stream",
     "text": [
      "C:\\Users\\phin_\\AppData\\Local\\Temp\\ipykernel_21436\\988486376.py:2: FutureWarning: The squeeze argument has been deprecated and will be removed in a future version. Append .squeeze(\"columns\") to the call to squeeze.\n",
      "\n",
      "\n",
      "  alcohol = pd.read_csv('../data/drinks.csv', usecols=['country', 'wine_servings'], index_col='country', squeeze=True)\n"
     ]
    }
   ],
   "source": [
    "# read a single series from csv data, by using the 'squeeze' parameter\n",
    "alcohol = pd.read_csv('../data/drinks.csv', usecols=['country', 'wine_servings'], index_col='country', squeeze=True)"
   ]
  },
  {
   "cell_type": "markdown",
   "id": "917db2d8",
   "metadata": {},
   "source": [
    "# Arithmetic operations with Series"
   ]
  },
  {
   "cell_type": "code",
   "execution_count": 3,
   "id": "fd9d8501",
   "metadata": {},
   "outputs": [
    {
     "data": {
      "text/plain": [
       "country\n",
       "Afghanistan      NaN\n",
       "Albania         54.0\n",
       "Algeria         14.0\n",
       "Andorra        312.0\n",
       "Angola          45.0\n",
       "               ...  \n",
       "Venezuela        3.0\n",
       "Vietnam          1.0\n",
       "Yemen            NaN\n",
       "Zambia           4.0\n",
       "Zimbabwe         4.0\n",
       "Name: wine_servings, Length: 193, dtype: float64"
      ]
     },
     "execution_count": 3,
     "metadata": {},
     "output_type": "execute_result"
    }
   ],
   "source": [
    "alcohol"
   ]
  },
  {
   "cell_type": "code",
   "execution_count": 4,
   "id": "57a490d0",
   "metadata": {},
   "outputs": [
    {
     "data": {
      "text/plain": [
       "country\n",
       "Afghanistan      NaN\n",
       "Albania         56.0\n",
       "Algeria         16.0\n",
       "Andorra        314.0\n",
       "Angola          47.0\n",
       "               ...  \n",
       "Venezuela        5.0\n",
       "Vietnam          3.0\n",
       "Yemen            NaN\n",
       "Zambia           6.0\n",
       "Zimbabwe         6.0\n",
       "Name: wine_servings, Length: 193, dtype: float64"
      ]
     },
     "execution_count": 4,
     "metadata": {},
     "output_type": "execute_result"
    }
   ],
   "source": [
    "# Add 2 to every item in the Series\n",
    "alcohol + 2"
   ]
  },
  {
   "cell_type": "code",
   "execution_count": 5,
   "id": "bbe75002",
   "metadata": {},
   "outputs": [
    {
     "data": {
      "text/plain": [
       "country\n",
       "Afghanistan           NaN\n",
       "Albania         29.333333\n",
       "Algeria          2.666667\n",
       "Andorra        201.333333\n",
       "Angola          23.333333\n",
       "                  ...    \n",
       "Venezuela       -4.666667\n",
       "Vietnam         -6.000000\n",
       "Yemen                 NaN\n",
       "Zambia          -4.000000\n",
       "Zimbabwe        -4.000000\n",
       "Name: wine_servings, Length: 193, dtype: float64"
      ]
     },
     "execution_count": 5,
     "metadata": {},
     "output_type": "execute_result"
    }
   ],
   "source": [
    "# Multiple operations at once\n",
    "(alcohol - 10) * 2/3"
   ]
  },
  {
   "cell_type": "markdown",
   "id": "c7c50e35",
   "metadata": {},
   "source": [
    "### Adding series together"
   ]
  },
  {
   "cell_type": "code",
   "execution_count": 6,
   "id": "d5116808",
   "metadata": {},
   "outputs": [],
   "source": [
    "more_drinks = pd.Series({'Albania': 5, 'Yemen': 2})"
   ]
  },
  {
   "cell_type": "code",
   "execution_count": 7,
   "id": "b06b0bdf",
   "metadata": {},
   "outputs": [
    {
     "data": {
      "text/plain": [
       "Afghanistan     NaN\n",
       "Albania        59.0\n",
       "Algeria         NaN\n",
       "Andorra         NaN\n",
       "Angola          NaN\n",
       "               ... \n",
       "Venezuela       NaN\n",
       "Vietnam         NaN\n",
       "Yemen           NaN\n",
       "Zambia          NaN\n",
       "Zimbabwe        NaN\n",
       "Length: 193, dtype: float64"
      ]
     },
     "execution_count": 7,
     "metadata": {},
     "output_type": "execute_result"
    }
   ],
   "source": [
    "# Adding them together will only keep records in which both matching indexes have values\n",
    "alcohol + more_drinks"
   ]
  },
  {
   "cell_type": "code",
   "execution_count": 8,
   "id": "47c81df7",
   "metadata": {},
   "outputs": [
    {
     "data": {
      "text/plain": [
       "Afghanistan      NaN\n",
       "Albania         59.0\n",
       "Algeria         14.0\n",
       "Andorra        312.0\n",
       "Angola          45.0\n",
       "               ...  \n",
       "Venezuela        3.0\n",
       "Vietnam          1.0\n",
       "Yemen            2.0\n",
       "Zambia           4.0\n",
       "Zimbabwe         4.0\n",
       "Length: 193, dtype: float64"
      ]
     },
     "execution_count": 8,
     "metadata": {},
     "output_type": "execute_result"
    }
   ],
   "source": [
    "# fill_value makes sure any NaN's from either list get replaced with a desired outcome to prevent end result being NaN\n",
    "alcohol.add(more_drinks, fill_value=0)"
   ]
  },
  {
   "cell_type": "markdown",
   "id": "e379f9fb",
   "metadata": {},
   "source": [
    "### Manually calculating variance\n",
    "$$ s^2 = \\frac{   \\sum (X - \\overline{X})^2 }{n-1} $$"
   ]
  },
  {
   "cell_type": "code",
   "execution_count": 9,
   "id": "2cdb8e8c",
   "metadata": {},
   "outputs": [
    {
     "data": {
      "text/plain": [
       "5796.5256115328575"
      ]
     },
     "execution_count": 9,
     "metadata": {},
     "output_type": "execute_result"
    }
   ],
   "source": [
    "((alcohol - alcohol.mean())**2).sum() / (alcohol.count()-1)"
   ]
  },
  {
   "cell_type": "code",
   "execution_count": 10,
   "id": "bf86b623",
   "metadata": {},
   "outputs": [
    {
     "data": {
      "text/plain": [
       "5796.5256115328575"
      ]
     },
     "execution_count": 10,
     "metadata": {},
     "output_type": "execute_result"
    }
   ],
   "source": [
    "alcohol.var()"
   ]
  },
  {
   "cell_type": "code",
   "execution_count": null,
   "id": "6478821f",
   "metadata": {},
   "outputs": [],
   "source": []
  }
 ],
 "metadata": {
  "kernelspec": {
   "display_name": "Python 3 (ipykernel)",
   "language": "python",
   "name": "python3"
  },
  "language_info": {
   "codemirror_mode": {
    "name": "ipython",
    "version": 3
   },
   "file_extension": ".py",
   "mimetype": "text/x-python",
   "name": "python",
   "nbconvert_exporter": "python",
   "pygments_lexer": "ipython3",
   "version": "3.10.6"
  }
 },
 "nbformat": 4,
 "nbformat_minor": 5
}
