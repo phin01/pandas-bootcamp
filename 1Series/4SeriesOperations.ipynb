{
 "cells": [
  {
   "cell_type": "code",
   "execution_count": 1,
   "metadata": {},
   "outputs": [],
   "source": [
    "import pandas as pd"
   ]
  },
  {
   "cell_type": "markdown",
   "metadata": {},
   "source": [
    "# Load a Series from CSV"
   ]
  },
  {
   "cell_type": "code",
   "execution_count": 2,
   "metadata": {
    "collapsed": true
   },
   "outputs": [
    {
     "name": "stderr",
     "output_type": "stream",
     "text": [
      "C:\\Users\\phin_\\AppData\\Local\\Temp\\ipykernel_21436\\988486376.py:2: FutureWarning: The squeeze argument has been deprecated and will be removed in a future version. Append .squeeze(\"columns\") to the call to squeeze.\n",
      "\n",
      "\n",
      "  alcohol = pd.read_csv('../data/drinks.csv', usecols=['country', 'wine_servings'], index_col='country', squeeze=True)\n"
     ]
    }
   ],
   "source": [
    "# read a single series from csv data, by using the 'squeeze' parameter\n",
    "alcohol = pd.read_csv('../data/drinks.csv', usecols=['country', 'wine_servings'], index_col='country', squeeze=True)"
   ]
  },
  {
   "cell_type": "markdown",
   "metadata": {},
   "source": [
    "## Arithmetic operations with Series"
   ]
  },
  {
   "cell_type": "code",
   "execution_count": 3,
   "metadata": {},
   "outputs": [
    {
     "data": {
      "text/plain": [
       "country\n",
       "Afghanistan      NaN\n",
       "Albania         54.0\n",
       "Algeria         14.0\n",
       "Andorra        312.0\n",
       "Angola          45.0\n",
       "               ...  \n",
       "Venezuela        3.0\n",
       "Vietnam          1.0\n",
       "Yemen            NaN\n",
       "Zambia           4.0\n",
       "Zimbabwe         4.0\n",
       "Name: wine_servings, Length: 193, dtype: float64"
      ]
     },
     "execution_count": 3,
     "metadata": {},
     "output_type": "execute_result"
    }
   ],
   "source": [
    "alcohol"
   ]
  },
  {
   "cell_type": "code",
   "execution_count": 4,
   "metadata": {},
   "outputs": [
    {
     "data": {
      "text/plain": [
       "country\n",
       "Afghanistan      NaN\n",
       "Albania         56.0\n",
       "Algeria         16.0\n",
       "Andorra        314.0\n",
       "Angola          47.0\n",
       "               ...  \n",
       "Venezuela        5.0\n",
       "Vietnam          3.0\n",
       "Yemen            NaN\n",
       "Zambia           6.0\n",
       "Zimbabwe         6.0\n",
       "Name: wine_servings, Length: 193, dtype: float64"
      ]
     },
     "execution_count": 4,
     "metadata": {},
     "output_type": "execute_result"
    }
   ],
   "source": [
    "# Add 2 to every item in the Series\n",
    "alcohol + 2"
   ]
  },
  {
   "cell_type": "code",
   "execution_count": 5,
   "metadata": {},
   "outputs": [
    {
     "data": {
      "text/plain": [
       "country\n",
       "Afghanistan           NaN\n",
       "Albania         29.333333\n",
       "Algeria          2.666667\n",
       "Andorra        201.333333\n",
       "Angola          23.333333\n",
       "                  ...    \n",
       "Venezuela       -4.666667\n",
       "Vietnam         -6.000000\n",
       "Yemen                 NaN\n",
       "Zambia          -4.000000\n",
       "Zimbabwe        -4.000000\n",
       "Name: wine_servings, Length: 193, dtype: float64"
      ]
     },
     "execution_count": 5,
     "metadata": {},
     "output_type": "execute_result"
    }
   ],
   "source": [
    "# Multiple operations at once\n",
    "(alcohol - 10) * 2/3"
   ]
  },
  {
   "cell_type": "markdown",
   "metadata": {},
   "source": [
    "## Adding series together"
   ]
  },
  {
   "cell_type": "code",
   "execution_count": 6,
   "metadata": {},
   "outputs": [],
   "source": [
    "more_drinks = pd.Series({'Albania': 5, 'Yemen': 2})"
   ]
  },
  {
   "cell_type": "code",
   "execution_count": 7,
   "metadata": {},
   "outputs": [
    {
     "data": {
      "text/plain": [
       "Afghanistan     NaN\n",
       "Albania        59.0\n",
       "Algeria         NaN\n",
       "Andorra         NaN\n",
       "Angola          NaN\n",
       "               ... \n",
       "Venezuela       NaN\n",
       "Vietnam         NaN\n",
       "Yemen           NaN\n",
       "Zambia          NaN\n",
       "Zimbabwe        NaN\n",
       "Length: 193, dtype: float64"
      ]
     },
     "execution_count": 7,
     "metadata": {},
     "output_type": "execute_result"
    }
   ],
   "source": [
    "# Adding them together will only keep records in which both matching indexes have values\n",
    "alcohol + more_drinks"
   ]
  },
  {
   "cell_type": "code",
   "execution_count": 8,
   "metadata": {},
   "outputs": [
    {
     "data": {
      "text/plain": [
       "Afghanistan      NaN\n",
       "Albania         59.0\n",
       "Algeria         14.0\n",
       "Andorra        312.0\n",
       "Angola          45.0\n",
       "               ...  \n",
       "Venezuela        3.0\n",
       "Vietnam          1.0\n",
       "Yemen            2.0\n",
       "Zambia           4.0\n",
       "Zimbabwe         4.0\n",
       "Length: 193, dtype: float64"
      ]
     },
     "execution_count": 8,
     "metadata": {},
     "output_type": "execute_result"
    }
   ],
   "source": [
    "# fill_value makes sure any NaN's from either list get replaced with a desired outcome to prevent end result being NaN\n",
    "alcohol.add(more_drinks, fill_value=0)"
   ]
  },
  {
   "cell_type": "markdown",
   "metadata": {},
   "source": [
    "### Manually calculating variance\n",
    "$$ s^2 = \\frac{   \\sum (X - \\overline{X})^2 }{n-1} $$"
   ]
  },
  {
   "cell_type": "code",
   "execution_count": 9,
   "metadata": {},
   "outputs": [
    {
     "data": {
      "text/plain": [
       "5796.5256115328575"
      ]
     },
     "execution_count": 9,
     "metadata": {},
     "output_type": "execute_result"
    }
   ],
   "source": [
    "((alcohol - alcohol.mean())**2).sum() / (alcohol.count()-1)"
   ]
  },
  {
   "cell_type": "code",
   "execution_count": 10,
   "metadata": {},
   "outputs": [
    {
     "data": {
      "text/plain": [
       "5796.5256115328575"
      ]
     },
     "execution_count": 10,
     "metadata": {},
     "output_type": "execute_result"
    }
   ],
   "source": [
    "alcohol.var()"
   ]
  },
  {
   "cell_type": "markdown",
   "metadata": {},
   "source": [
    "## Cumulative operations"
   ]
  },
  {
   "cell_type": "code",
   "execution_count": 11,
   "metadata": {},
   "outputs": [
    {
     "data": {
      "text/plain": [
       "country\n",
       "Afghanistan       NaN\n",
       "Albania          54.0\n",
       "Algeria          68.0\n",
       "Andorra         380.0\n",
       "Angola          425.0\n",
       "                ...  \n",
       "Venezuela      8212.0\n",
       "Vietnam        8213.0\n",
       "Yemen             NaN\n",
       "Zambia         8217.0\n",
       "Zimbabwe       8221.0\n",
       "Name: wine_servings, Length: 193, dtype: float64"
      ]
     },
     "execution_count": 11,
     "metadata": {},
     "output_type": "execute_result"
    }
   ],
   "source": [
    "# Cumulative Sum\n",
    "alcohol.cumsum()"
   ]
  },
  {
   "cell_type": "code",
   "execution_count": 13,
   "metadata": {},
   "outputs": [
    {
     "data": {
      "text/plain": [
       "True"
      ]
     },
     "execution_count": 13,
     "metadata": {},
     "output_type": "execute_result"
    }
   ],
   "source": [
    "alcohol.cumsum()[-1] == alcohol.sum()"
   ]
  },
  {
   "cell_type": "code",
   "execution_count": 12,
   "metadata": {},
   "outputs": [
    {
     "data": {
      "text/plain": [
       "country\n",
       "Afghanistan              NaN\n",
       "Albania         5.400000e+01\n",
       "Algeria         7.560000e+02\n",
       "Andorra         2.358720e+05\n",
       "Angola          1.061424e+07\n",
       "                   ...      \n",
       "Venezuela      2.142257e+182\n",
       "Vietnam        2.142257e+182\n",
       "Yemen                    NaN\n",
       "Zambia         8.569029e+182\n",
       "Zimbabwe       3.427612e+183\n",
       "Name: wine_servings, Length: 193, dtype: float64"
      ]
     },
     "execution_count": 12,
     "metadata": {},
     "output_type": "execute_result"
    }
   ],
   "source": [
    "# Cumulative Product\n",
    "alcohol.cumprod()"
   ]
  },
  {
   "cell_type": "code",
   "execution_count": 14,
   "metadata": {},
   "outputs": [
    {
     "data": {
      "text/plain": [
       "True"
      ]
     },
     "execution_count": 14,
     "metadata": {},
     "output_type": "execute_result"
    }
   ],
   "source": [
    "alcohol.cumprod()[-1] == alcohol.prod()"
   ]
  },
  {
   "cell_type": "markdown",
   "metadata": {},
   "source": [
    "## Pairwise Differences - diff()"
   ]
  },
  {
   "cell_type": "code",
   "execution_count": 18,
   "metadata": {},
   "outputs": [
    {
     "data": {
      "text/plain": [
       "country\n",
       "Afghanistan      NaN\n",
       "Albania         54.0\n",
       "Algeria         14.0\n",
       "Andorra        312.0\n",
       "Angola          45.0\n",
       "Name: wine_servings, dtype: float64"
      ]
     },
     "execution_count": 18,
     "metadata": {},
     "output_type": "execute_result"
    }
   ],
   "source": [
    "alcohol.head()"
   ]
  },
  {
   "cell_type": "code",
   "execution_count": 19,
   "metadata": {},
   "outputs": [
    {
     "data": {
      "text/plain": [
       "country\n",
       "Afghanistan      NaN\n",
       "Albania          NaN\n",
       "Algeria        -40.0\n",
       "Andorra        298.0\n",
       "Angola        -267.0\n",
       "Name: wine_servings, dtype: float64"
      ]
     },
     "execution_count": 19,
     "metadata": {},
     "output_type": "execute_result"
    }
   ],
   "source": [
    "# Nth element - (N-1)th element\n",
    "alcohol.diff().head()"
   ]
  },
  {
   "cell_type": "code",
   "execution_count": 16,
   "metadata": {},
   "outputs": [
    {
     "data": {
      "text/plain": [
       "country\n",
       "Afghanistan      NaN\n",
       "Albania          NaN\n",
       "Algeria          NaN\n",
       "Andorra        258.0\n",
       "Angola          31.0\n",
       "Name: wine_servings, dtype: float64"
      ]
     },
     "execution_count": 16,
     "metadata": {},
     "output_type": "execute_result"
    }
   ],
   "source": [
    "alcohol.diff(periods=2).head()"
   ]
  },
  {
   "cell_type": "markdown",
   "metadata": {},
   "source": [
    "## Series Iteration"
   ]
  },
  {
   "cell_type": "code",
   "execution_count": 20,
   "metadata": {
    "collapsed": true
   },
   "outputs": [
    {
     "name": "stdout",
     "output_type": "stream",
     "text": [
      "('Afghanistan', nan)\n",
      "('Albania', 54.0)\n",
      "('Algeria', 14.0)\n",
      "('Andorra', 312.0)\n",
      "('Angola', 45.0)\n",
      "('Antigua & Barbuda', 45.0)\n",
      "('Argentina', 221.0)\n",
      "('Armenia', 11.0)\n",
      "('Australia', 212.0)\n",
      "('Austria', 191.0)\n",
      "('Azerbaijan', 5.0)\n",
      "('Bahamas', 51.0)\n",
      "('Bahrain', 7.0)\n",
      "('Bangladesh', nan)\n",
      "('Barbados', 36.0)\n",
      "('Belarus', 42.0)\n",
      "('Belgium', 212.0)\n",
      "('Belize', 8.0)\n",
      "('Benin', 13.0)\n",
      "('Bhutan', nan)\n",
      "('Bolivia', 8.0)\n",
      "('Bosnia-Herzegovina', 8.0)\n",
      "('Botswana', 35.0)\n",
      "('Brazil', 16.0)\n",
      "('Brunei', 1.0)\n",
      "('Bulgaria', 94.0)\n",
      "('Burkina Faso', 7.0)\n",
      "('Burundi', nan)\n",
      "(\"Cote d'Ivoire\", 7.0)\n",
      "('Cabo Verde', 16.0)\n",
      "('Cambodia', 1.0)\n",
      "('Cameroon', 4.0)\n",
      "('Canada', 1.0)\n",
      "('Central African Republic', 1.0)\n",
      "('Chad', 1.0)\n",
      "('Chile', 172.0)\n",
      "('China', 8.0)\n",
      "('Colombia', 3.0)\n",
      "('Comoros', 1.0)\n",
      "('Congo', 9.0)\n",
      "('Cook Islands', 74.0)\n",
      "('Costa Rica', 11.0)\n",
      "('Croatia', 254.0)\n",
      "('Cuba', 5.0)\n",
      "('Cyprus', 113.0)\n",
      "('Czech Republic', 134.0)\n",
      "('North Korea', nan)\n",
      "('DR Congo', 1.0)\n",
      "('Denmark', 278.0)\n",
      "('Djibouti', 3.0)\n",
      "('Dominica', 26.0)\n",
      "('Dominican Republic', 9.0)\n",
      "('Ecuador', 3.0)\n",
      "('Egypt', 1.0)\n",
      "('El Salvador', 2.0)\n",
      "('Equatorial Guinea', 233.0)\n",
      "('Eritrea', nan)\n",
      "('Estonia', 59.0)\n",
      "('Ethiopia', nan)\n",
      "('Fiji', 1.0)\n",
      "('Finland', 97.0)\n",
      "('France', 37.0)\n",
      "('Gabon', 59.0)\n",
      "('Gambia', 1.0)\n",
      "('Georgia', 149.0)\n",
      "('Germany', 175.0)\n",
      "('Ghana', 1.0)\n",
      "('Greece', 218.0)\n",
      "('Grenada', 28.0)\n",
      "('Guatemala', 2.0)\n",
      "('Guinea', 2.0)\n",
      "('Guinea-Bissau', 21.0)\n",
      "('Guyana', 1.0)\n",
      "('Haiti', 1.0)\n",
      "('Honduras', 2.0)\n",
      "('Hungary', 185.0)\n",
      "('Iceland', 78.0)\n",
      "('India', nan)\n",
      "('Indonesia', nan)\n",
      "('Iran', nan)\n",
      "('Iraq', nan)\n",
      "('Ireland', 165.0)\n",
      "('Israel', 9.0)\n",
      "('Italy', 237.0)\n",
      "('Jamaica', 9.0)\n",
      "('Japan', 16.0)\n",
      "('Jordan', 1.0)\n",
      "('Kazakhstan', 12.0)\n",
      "('Kenya', 2.0)\n",
      "('Kiribati', 1.0)\n",
      "('Kuwait', nan)\n",
      "('Kyrgyzstan', 6.0)\n",
      "('Laos', 123.0)\n",
      "('Latvia', 62.0)\n",
      "('Lebanon', 31.0)\n",
      "('Lesotho', nan)\n",
      "('Liberia', 2.0)\n",
      "('Libya', nan)\n",
      "('Lithuania', 56.0)\n",
      "('Luxembourg', 271.0)\n",
      "('Madagascar', 4.0)\n",
      "('Malawi', 1.0)\n",
      "('Malaysia', nan)\n",
      "('Maldives', nan)\n",
      "('Mali', 1.0)\n",
      "('Malta', 12.0)\n",
      "('Marshall Islands', nan)\n",
      "('Mauritania', nan)\n",
      "('Mauritius', 18.0)\n",
      "('Mexico', 5.0)\n",
      "('Micronesia', 18.0)\n",
      "('Monaco', nan)\n",
      "('Mongolia', 8.0)\n",
      "('Montenegro', 128.0)\n",
      "('Morocco', 1.0)\n",
      "('Mozambique', 5.0)\n",
      "('Myanmar', nan)\n",
      "('Namibia', 1.0)\n",
      "('Nauru', 8.0)\n",
      "('Nepal', nan)\n",
      "('Netherlands', 19.0)\n",
      "('New Zealand', 175.0)\n",
      "('Nicaragua', 1.0)\n",
      "('Niger', 1.0)\n",
      "('Nigeria', 2.0)\n",
      "('Niue', 7.0)\n",
      "('Norway', 129.0)\n",
      "('Oman', 1.0)\n",
      "('Pakistan', nan)\n",
      "('Palau', 23.0)\n",
      "('Panama', 18.0)\n",
      "('Papua New Guinea', 1.0)\n",
      "('Paraguay', 74.0)\n",
      "('Peru', 21.0)\n",
      "('Philippines', 1.0)\n",
      "('Poland', 56.0)\n",
      "('Portugal', 339.0)\n",
      "('Qatar', 7.0)\n",
      "('South Korea', 9.0)\n",
      "('Moldova', 18.0)\n",
      "('Romania', 167.0)\n",
      "('Russian Federation', 73.0)\n",
      "('Rwanda', nan)\n",
      "('St. Kitts & Nevis', 32.0)\n",
      "('St. Lucia', 71.0)\n",
      "('St. Vincent & the Grenadines', 11.0)\n",
      "('Samoa', 24.0)\n",
      "('San Marino', nan)\n",
      "('Sao Tome & Principe', 14.0)\n",
      "('Saudi Arabia', nan)\n",
      "('Senegal', 7.0)\n",
      "('Serbia', 127.0)\n",
      "('Seychelles', 51.0)\n",
      "('Sierra Leone', 2.0)\n",
      "('Singapore', 11.0)\n",
      "('Slovakia', 116.0)\n",
      "('Slovenia', 276.0)\n",
      "('Solomon Islands', 1.0)\n",
      "('Somalia', nan)\n",
      "('South Africa', 81.0)\n",
      "('Spain', 112.0)\n",
      "('Sri Lanka', nan)\n",
      "('Sudan', nan)\n",
      "('Suriname', 7.0)\n",
      "('Swaziland', 2.0)\n",
      "('Sweden', 186.0)\n",
      "('Switzerland', 28.0)\n",
      "('Syria', 16.0)\n",
      "('Tajikistan', nan)\n",
      "('Thailand', 1.0)\n",
      "('Macedonia', 86.0)\n",
      "('Timor-Leste', 4.0)\n",
      "('Togo', 19.0)\n",
      "('Tonga', 5.0)\n",
      "('Trinidad & Tobago', 7.0)\n",
      "('Tunisia', 2.0)\n",
      "('Turkey', 7.0)\n",
      "('Turkmenistan', 32.0)\n",
      "('Tuvalu', 9.0)\n",
      "('Uganda', nan)\n",
      "('Ukraine', 45.0)\n",
      "('United Arab Emirates', 5.0)\n",
      "('United Kingdom', 195.0)\n",
      "('Tanzania', 1.0)\n",
      "('USA', 84.0)\n",
      "('Uruguay', 22.0)\n",
      "('Uzbekistan', 8.0)\n",
      "('Vanuatu', 11.0)\n",
      "('Venezuela', 3.0)\n",
      "('Vietnam', 1.0)\n",
      "('Yemen', nan)\n",
      "('Zambia', 4.0)\n",
      "('Zimbabwe', 4.0)\n"
     ]
    }
   ],
   "source": [
    "# For loop\n",
    "# for i in alcohol.iteritems():    same thing as .items()\n",
    "for i in alcohol.items():\n",
    "    print(i)"
   ]
  },
  {
   "cell_type": "markdown",
   "metadata": {},
   "source": [
    "## Filtering"
   ]
  },
  {
   "cell_type": "markdown",
   "metadata": {},
   "source": [
    "### .filter()"
   ]
  },
  {
   "cell_type": "code",
   "execution_count": 23,
   "metadata": {},
   "outputs": [
    {
     "data": {
      "text/plain": [
       "country\n",
       "Cabo Verde                      16.0\n",
       "St. Vincent & the Grenadines    11.0\n",
       "Vanuatu                         11.0\n",
       "Venezuela                        3.0\n",
       "Vietnam                          1.0\n",
       "Name: wine_servings, dtype: float64"
      ]
     },
     "execution_count": 23,
     "metadata": {},
     "output_type": "execute_result"
    }
   ],
   "source": [
    "# Index filtering\n",
    "alcohol.filter(regex='V')"
   ]
  },
  {
   "cell_type": "code",
   "execution_count": 33,
   "metadata": {},
   "outputs": [
    {
     "data": {
      "text/plain": [
       "country\n",
       "Afghanistan      NaN\n",
       "Kazakhstan      12.0\n",
       "Kyrgyzstan       6.0\n",
       "Pakistan         NaN\n",
       "Tajikistan       NaN\n",
       "Turkmenistan    32.0\n",
       "Uzbekistan       8.0\n",
       "Name: wine_servings, dtype: float64"
      ]
     },
     "execution_count": 33,
     "metadata": {},
     "output_type": "execute_result"
    }
   ],
   "source": [
    "# Index filtering\n",
    "alcohol.filter(like='stan')"
   ]
  },
  {
   "cell_type": "markdown",
   "metadata": {},
   "source": [
    "### Using brackets"
   ]
  },
  {
   "cell_type": "code",
   "execution_count": 25,
   "metadata": {},
   "outputs": [
    {
     "data": {
      "text/plain": [
       "country\n",
       "Andorra              312.0\n",
       "Argentina            221.0\n",
       "Australia            212.0\n",
       "Belgium              212.0\n",
       "Croatia              254.0\n",
       "Denmark              278.0\n",
       "Equatorial Guinea    233.0\n",
       "Greece               218.0\n",
       "Italy                237.0\n",
       "Luxembourg           271.0\n",
       "Portugal             339.0\n",
       "Slovenia             276.0\n",
       "Name: wine_servings, dtype: float64"
      ]
     },
     "execution_count": 25,
     "metadata": {},
     "output_type": "execute_result"
    }
   ],
   "source": [
    "# Value filtering\n",
    "alcohol[alcohol > 200]"
   ]
  },
  {
   "cell_type": "code",
   "execution_count": 27,
   "metadata": {},
   "outputs": [
    {
     "data": {
      "text/plain": [
       "country\n",
       "Andorra              312.0\n",
       "Argentina            221.0\n",
       "Australia            212.0\n",
       "Belgium              212.0\n",
       "Croatia              254.0\n",
       "Denmark              278.0\n",
       "Equatorial Guinea    233.0\n",
       "Greece               218.0\n",
       "Italy                237.0\n",
       "Luxembourg           271.0\n",
       "Portugal             339.0\n",
       "Slovenia             276.0\n",
       "Name: wine_servings, dtype: float64"
      ]
     },
     "execution_count": 27,
     "metadata": {},
     "output_type": "execute_result"
    }
   ],
   "source": [
    "# Value filtering with callable functions\n",
    "def gt200(x):\n",
    "    return x > 200\n",
    "\n",
    "alcohol[gt200]"
   ]
  },
  {
   "cell_type": "code",
   "execution_count": 34,
   "metadata": {},
   "outputs": [
    {
     "data": {
      "text/plain": [
       "country\n",
       "Andorra              312.0\n",
       "Argentina            221.0\n",
       "Australia            212.0\n",
       "Belgium              212.0\n",
       "Croatia              254.0\n",
       "Denmark              278.0\n",
       "Equatorial Guinea    233.0\n",
       "Greece               218.0\n",
       "Italy                237.0\n",
       "Luxembourg           271.0\n",
       "Portugal             339.0\n",
       "Slovenia             276.0\n",
       "Name: wine_servings, dtype: float64"
      ]
     },
     "execution_count": 34,
     "metadata": {},
     "output_type": "execute_result"
    }
   ],
   "source": [
    "# Value filtering with lambda functions\n",
    "alcohol[lambda x: x > 200]"
   ]
  },
  {
   "cell_type": "markdown",
   "metadata": {},
   "source": [
    "### .where()\n",
    "Not used for filtering per se, but to replace values that do not meet a criteria"
   ]
  },
  {
   "cell_type": "code",
   "execution_count": 30,
   "metadata": {},
   "outputs": [
    {
     "data": {
      "text/plain": [
       "country\n",
       "Afghanistan    needs more wine\n",
       "Albania        needs more wine\n",
       "Algeria        needs more wine\n",
       "Andorra                  312.0\n",
       "Angola         needs more wine\n",
       "                    ...       \n",
       "Venezuela      needs more wine\n",
       "Vietnam        needs more wine\n",
       "Yemen          needs more wine\n",
       "Zambia         needs more wine\n",
       "Zimbabwe       needs more wine\n",
       "Name: wine_servings, Length: 193, dtype: object"
      ]
     },
     "execution_count": 30,
     "metadata": {},
     "output_type": "execute_result"
    }
   ],
   "source": [
    "alcohol.where(lambda x: x > 200, other='needs more wine')"
   ]
  },
  {
   "cell_type": "code",
   "execution_count": 31,
   "metadata": {},
   "outputs": [
    {
     "data": {
      "text/plain": [
       "country\n",
       "Afghanistan      NaN\n",
       "Albania          NaN\n",
       "Algeria          NaN\n",
       "Andorra        312.0\n",
       "Angola           NaN\n",
       "               ...  \n",
       "Venezuela        NaN\n",
       "Vietnam          NaN\n",
       "Yemen            NaN\n",
       "Zambia           NaN\n",
       "Zimbabwe         NaN\n",
       "Name: wine_servings, Length: 193, dtype: float64"
      ]
     },
     "execution_count": 31,
     "metadata": {},
     "output_type": "execute_result"
    }
   ],
   "source": [
    "# Default 'other' parameter is NaN\n",
    "alcohol.where(lambda x: x > 200)"
   ]
  },
  {
   "cell_type": "code",
   "execution_count": 35,
   "metadata": {},
   "outputs": [
    {
     "data": {
      "text/plain": [
       "country\n",
       "Andorra              312.0\n",
       "Argentina            221.0\n",
       "Australia            212.0\n",
       "Belgium              212.0\n",
       "Croatia              254.0\n",
       "Denmark              278.0\n",
       "Equatorial Guinea    233.0\n",
       "Greece               218.0\n",
       "Italy                237.0\n",
       "Luxembourg           271.0\n",
       "Portugal             339.0\n",
       "Slovenia             276.0\n",
       "Name: wine_servings, dtype: float64"
      ]
     },
     "execution_count": 35,
     "metadata": {},
     "output_type": "execute_result"
    }
   ],
   "source": [
    "# Therefore, Where can be used to filter when combined with dropna()\n",
    "alcohol.where(lambda x: x > 200).dropna()"
   ]
  },
  {
   "cell_type": "markdown",
   "metadata": {},
   "source": [
    "### .mask()\n",
    "Opposite to .where(), replaces values when the condition is TRUE"
   ]
  },
  {
   "cell_type": "code",
   "execution_count": 37,
   "metadata": {},
   "outputs": [
    {
     "data": {
      "text/plain": [
       "country\n",
       "Afghanistan              NaN\n",
       "Albania                 54.0\n",
       "Algeria                 14.0\n",
       "Andorra        too much wine\n",
       "Angola                  45.0\n",
       "                   ...      \n",
       "Venezuela                3.0\n",
       "Vietnam                  1.0\n",
       "Yemen                    NaN\n",
       "Zambia                   4.0\n",
       "Zimbabwe                 4.0\n",
       "Name: wine_servings, Length: 193, dtype: object"
      ]
     },
     "execution_count": 37,
     "metadata": {},
     "output_type": "execute_result"
    }
   ],
   "source": [
    "alcohol.mask(lambda x: x > 200, other='too much wine')"
   ]
  },
  {
   "cell_type": "code",
   "execution_count": 38,
   "metadata": {},
   "outputs": [
    {
     "data": {
      "text/plain": [
       "country\n",
       "Albania              54.0\n",
       "Algeria              14.0\n",
       "Angola               45.0\n",
       "Antigua & Barbuda    45.0\n",
       "Armenia              11.0\n",
       "                     ... \n",
       "Vanuatu              11.0\n",
       "Venezuela             3.0\n",
       "Vietnam               1.0\n",
       "Zambia                4.0\n",
       "Zimbabwe              4.0\n",
       "Name: wine_servings, Length: 150, dtype: float64"
      ]
     },
     "execution_count": 38,
     "metadata": {},
     "output_type": "execute_result"
    }
   ],
   "source": [
    "alcohol.mask(lambda x: x > 200).dropna()"
   ]
  },
  {
   "cell_type": "markdown",
   "metadata": {},
   "source": [
    "## Transformations"
   ]
  },
  {
   "cell_type": "markdown",
   "metadata": {},
   "source": [
    "### .update()\n",
    "Updates the original list (__in-place__) with the values from the parameter list. Useful to replace specific elements"
   ]
  },
  {
   "cell_type": "code",
   "execution_count": 39,
   "metadata": {},
   "outputs": [
    {
     "data": {
      "text/plain": [
       "country\n",
       "Afghanistan      NaN\n",
       "Albania         54.0\n",
       "Algeria         14.0\n",
       "Andorra        312.0\n",
       "Angola          45.0\n",
       "Name: wine_servings, dtype: float64"
      ]
     },
     "execution_count": 39,
     "metadata": {},
     "output_type": "execute_result"
    }
   ],
   "source": [
    "alcohol.head()"
   ]
  },
  {
   "cell_type": "code",
   "execution_count": 42,
   "metadata": {},
   "outputs": [
    {
     "data": {
      "text/plain": [
       "country\n",
       "Afghanistan      NaN\n",
       "Albania        111.0\n",
       "Algeria        222.0\n",
       "Andorra        312.0\n",
       "Angola          45.0\n",
       "Name: wine_servings, dtype: float64"
      ]
     },
     "execution_count": 42,
     "metadata": {},
     "output_type": "execute_result"
    }
   ],
   "source": [
    "alcohol.update(pd.Series(index=['Albania', 'Algeria'], data=[111, 222]))\n",
    "alcohol.head()"
   ]
  },
  {
   "cell_type": "code",
   "execution_count": 47,
   "metadata": {},
   "outputs": [
    {
     "data": {
      "text/plain": [
       "country\n",
       "Afghanistan      NaN\n",
       "Albania        123.0\n",
       "Algeria        456.0\n",
       "Andorra        312.0\n",
       "Angola          45.0\n",
       "Name: wine_servings, dtype: float64"
      ]
     },
     "execution_count": 47,
     "metadata": {},
     "output_type": "execute_result"
    }
   ],
   "source": [
    "update_series = pd.Series({'Albania': 123, 'Algeria': 456})\n",
    "alcohol.update(update_series)\n",
    "alcohol.head()"
   ]
  },
  {
   "cell_type": "markdown",
   "metadata": {},
   "source": [
    "### .apply()\n",
    "Applies a specific function to all elements of a list (__not__ in-place)\n",
    "\n",
    "Can be either a callable function or a lambda function"
   ]
  },
  {
   "cell_type": "code",
   "execution_count": 50,
   "metadata": {},
   "outputs": [
    {
     "data": {
      "text/plain": [
       "country\n",
       "Afghanistan      NaN\n",
       "Albania        133.0\n",
       "Algeria        466.0\n",
       "Andorra        322.0\n",
       "Angola          55.0\n",
       "               ...  \n",
       "Venezuela       13.0\n",
       "Vietnam         11.0\n",
       "Yemen            NaN\n",
       "Zambia          14.0\n",
       "Zimbabwe        14.0\n",
       "Name: wine_servings, Length: 193, dtype: float64"
      ]
     },
     "execution_count": 50,
     "metadata": {},
     "output_type": "execute_result"
    }
   ],
   "source": [
    "alcohol.apply(lambda x: x + 10)"
   ]
  },
  {
   "cell_type": "code",
   "execution_count": 54,
   "metadata": {},
   "outputs": [],
   "source": [
    "# Callable functions have the advantage of receiving additional parameters\n",
    "def filter_threshold(x, threshold):\n",
    "    if x > threshold:\n",
    "        return True\n",
    "    return False"
   ]
  },
  {
   "cell_type": "code",
   "execution_count": 55,
   "metadata": {},
   "outputs": [
    {
     "data": {
      "text/plain": [
       "country\n",
       "Afghanistan    False\n",
       "Albania         True\n",
       "Algeria         True\n",
       "Andorra         True\n",
       "Angola         False\n",
       "               ...  \n",
       "Venezuela      False\n",
       "Vietnam        False\n",
       "Yemen          False\n",
       "Zambia         False\n",
       "Zimbabwe       False\n",
       "Name: wine_servings, Length: 193, dtype: bool"
      ]
     },
     "execution_count": 55,
     "metadata": {},
     "output_type": "execute_result"
    }
   ],
   "source": [
    "# Call parameter by name\n",
    "alcohol.apply(filter_threshold, threshold=100)   "
   ]
  },
  {
   "cell_type": "code",
   "execution_count": 57,
   "metadata": {},
   "outputs": [
    {
     "data": {
      "text/plain": [
       "country\n",
       "Afghanistan    False\n",
       "Albania         True\n",
       "Algeria         True\n",
       "Andorra         True\n",
       "Angola         False\n",
       "               ...  \n",
       "Venezuela      False\n",
       "Vietnam        False\n",
       "Yemen          False\n",
       "Zambia         False\n",
       "Zimbabwe       False\n",
       "Name: wine_servings, Length: 193, dtype: bool"
      ]
     },
     "execution_count": 57,
     "metadata": {},
     "output_type": "execute_result"
    }
   ],
   "source": [
    "# Call parameter by position\n",
    "alcohol.apply(filter_threshold, args=(100,))"
   ]
  },
  {
   "cell_type": "markdown",
   "metadata": {},
   "source": [
    "### .map()\n",
    "Similar to .apply(), but more useful for substitutions"
   ]
  },
  {
   "cell_type": "code",
   "execution_count": 59,
   "metadata": {},
   "outputs": [
    {
     "data": {
      "text/plain": [
       "country\n",
       "Afghanistan      NaN\n",
       "Albania        133.0\n",
       "Algeria        466.0\n",
       "Andorra        322.0\n",
       "Angola          55.0\n",
       "               ...  \n",
       "Venezuela       13.0\n",
       "Vietnam         11.0\n",
       "Yemen            NaN\n",
       "Zambia          14.0\n",
       "Zimbabwe        14.0\n",
       "Name: wine_servings, Length: 193, dtype: float64"
      ]
     },
     "execution_count": 59,
     "metadata": {},
     "output_type": "execute_result"
    }
   ],
   "source": [
    "# Can also use lambdas or callable functions\n",
    "alcohol.map(lambda x: x + 10)"
   ]
  },
  {
   "cell_type": "code",
   "execution_count": 62,
   "metadata": {},
   "outputs": [
    {
     "data": {
      "text/plain": [
       "country\n",
       "Afghanistan                NaN\n",
       "Albania                    NaN\n",
       "Algeria                    NaN\n",
       "Andorra                    NaN\n",
       "Angola                     NaN\n",
       "                    ...       \n",
       "Venezuela                  NaN\n",
       "Vietnam        needs more wine\n",
       "Yemen                      NaN\n",
       "Zambia                     NaN\n",
       "Zimbabwe                   NaN\n",
       "Name: wine_servings, Length: 193, dtype: object"
      ]
     },
     "execution_count": 62,
     "metadata": {},
     "output_type": "execute_result"
    }
   ],
   "source": [
    "# Can replace specific values, works well with dictionaries\n",
    "alcohol.map({1: 'needs more wine'})"
   ]
  },
  {
   "cell_type": "code",
   "execution_count": 64,
   "metadata": {},
   "outputs": [
    {
     "data": {
      "text/plain": [
       "country\n",
       "Brunei                      needs more wine\n",
       "Cambodia                    needs more wine\n",
       "Canada                      needs more wine\n",
       "Central African Republic    needs more wine\n",
       "Chad                        needs more wine\n",
       "Comoros                     needs more wine\n",
       "DR Congo                    needs more wine\n",
       "Egypt                       needs more wine\n",
       "Fiji                        needs more wine\n",
       "Gambia                      needs more wine\n",
       "Ghana                       needs more wine\n",
       "Guyana                      needs more wine\n",
       "Haiti                       needs more wine\n",
       "Jordan                      needs more wine\n",
       "Kiribati                    needs more wine\n",
       "Malawi                      needs more wine\n",
       "Mali                        needs more wine\n",
       "Morocco                     needs more wine\n",
       "Namibia                     needs more wine\n",
       "Nicaragua                   needs more wine\n",
       "Niger                       needs more wine\n",
       "Oman                        needs more wine\n",
       "Papua New Guinea            needs more wine\n",
       "Philippines                 needs more wine\n",
       "Solomon Islands             needs more wine\n",
       "Thailand                    needs more wine\n",
       "Tanzania                    needs more wine\n",
       "Vietnam                     needs more wine\n",
       "Name: wine_servings, dtype: object"
      ]
     },
     "execution_count": 64,
     "metadata": {},
     "output_type": "execute_result"
    }
   ],
   "source": [
    "alcohol.map({1: 'needs more wine'}).dropna()"
   ]
  },
  {
   "cell_type": "code",
   "execution_count": null,
   "metadata": {},
   "outputs": [],
   "source": []
  }
 ],
 "metadata": {
  "kernelspec": {
   "display_name": "Python 3",
   "language": "python",
   "name": "python3"
  },
  "language_info": {
   "codemirror_mode": {
    "name": "ipython",
    "version": 3
   },
   "file_extension": ".py",
   "mimetype": "text/x-python",
   "name": "python",
   "nbconvert_exporter": "python",
   "pygments_lexer": "ipython3",
   "version": "3.7.8"
  }
 },
 "nbformat": 4,
 "nbformat_minor": 5
}
