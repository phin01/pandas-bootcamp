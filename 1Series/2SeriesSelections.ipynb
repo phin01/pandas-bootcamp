{
 "cells": [
  {
   "cell_type": "code",
   "execution_count": 12,
   "metadata": {},
   "outputs": [],
   "source": [
    "import pandas as pd\n",
    "from string import ascii_lowercase\n",
    "from string import ascii_uppercase"
   ]
  },
  {
   "cell_type": "code",
   "execution_count": 4,
   "metadata": {},
   "outputs": [
    {
     "data": {
      "text/plain": [
       "'abcdefghijklmnopqrstuvwxyz'"
      ]
     },
     "execution_count": 4,
     "metadata": {},
     "output_type": "execute_result"
    }
   ],
   "source": [
    "ascii_lowercase"
   ]
  },
  {
   "cell_type": "code",
   "execution_count": 6,
   "metadata": {
    "scrolled": true
   },
   "outputs": [
    {
     "data": {
      "text/plain": [
       "0     a\n",
       "1     b\n",
       "2     c\n",
       "3     d\n",
       "4     e\n",
       "5     f\n",
       "6     g\n",
       "7     h\n",
       "8     i\n",
       "9     j\n",
       "10    k\n",
       "11    l\n",
       "12    m\n",
       "13    n\n",
       "14    o\n",
       "15    p\n",
       "16    q\n",
       "17    r\n",
       "18    s\n",
       "19    t\n",
       "20    u\n",
       "21    v\n",
       "22    w\n",
       "23    x\n",
       "24    y\n",
       "25    z\n",
       "dtype: object"
      ]
     },
     "execution_count": 6,
     "metadata": {},
     "output_type": "execute_result"
    }
   ],
   "source": [
    "alphabet = pd.Series(list(ascii_lowercase))\n",
    "alphabet"
   ]
  },
  {
   "cell_type": "markdown",
   "metadata": {},
   "source": [
    "# Accessing values by Index"
   ]
  },
  {
   "cell_type": "code",
   "execution_count": 11,
   "metadata": {},
   "outputs": [
    {
     "name": "stdout",
     "output_type": "stream",
     "text": [
      "g\n",
      "11    l\n",
      "12    m\n",
      "13    n\n",
      "14    o\n",
      "15    p\n",
      "16    q\n",
      "dtype: object\n",
      "22    w\n",
      "23    x\n",
      "24    y\n",
      "25    z\n",
      "dtype: object\n"
     ]
    }
   ],
   "source": [
    "# 7th element\n",
    "print(alphabet[6])\n",
    "\n",
    "# elements 12-17\n",
    "print(alphabet[11:17])\n",
    "\n",
    "# last 4 elements\n",
    "print(alphabet[-4:])"
   ]
  },
  {
   "cell_type": "markdown",
   "metadata": {},
   "source": [
    "# Accessing values by labels"
   ]
  },
  {
   "cell_type": "code",
   "execution_count": 15,
   "metadata": {
    "scrolled": true
   },
   "outputs": [
    {
     "data": {
      "text/plain": [
       "a    A\n",
       "b    B\n",
       "c    C\n",
       "d    D\n",
       "e    E\n",
       "f    F\n",
       "g    G\n",
       "h    H\n",
       "i    I\n",
       "j    J\n",
       "k    K\n",
       "l    L\n",
       "m    M\n",
       "n    N\n",
       "o    O\n",
       "p    P\n",
       "q    Q\n",
       "r    R\n",
       "s    S\n",
       "t    T\n",
       "u    U\n",
       "v    V\n",
       "w    W\n",
       "x    X\n",
       "y    Y\n",
       "z    Z\n",
       "dtype: object"
      ]
     },
     "execution_count": 15,
     "metadata": {},
     "output_type": "execute_result"
    }
   ],
   "source": [
    "# create a series in which the labels are lowercase letters and values are uppercase\n",
    "alphabetLabels = pd.Series(list(ascii_uppercase), index=list(ascii_lowercase))\n",
    "alphabetLabels"
   ]
  },
  {
   "cell_type": "code",
   "execution_count": 23,
   "metadata": {
    "scrolled": true
   },
   "outputs": [
    {
     "name": "stdout",
     "output_type": "stream",
     "text": [
      "M\n",
      "M\n",
      "a    A\n",
      "b    B\n",
      "c    C\n",
      "dtype: object\n",
      "g    G\n",
      "h    H\n",
      "i    I\n",
      "j    J\n",
      "k    K\n",
      "dtype: object\n"
     ]
    }
   ],
   "source": [
    "# return value from 'm' label\n",
    "print(alphabetLabels['m'])\n",
    "\n",
    "# values can also be accessed using dot notation for labels\n",
    "print(alphabetLabels.m)\n",
    "\n",
    "# return values until 'c' label\n",
    "print(alphabetLabels[:'c'])\n",
    "\n",
    "# return values between labels 'g' and 'k'\n",
    "print(alphabetLabels['g':'k'])"
   ]
  },
  {
   "cell_type": "markdown",
   "metadata": {},
   "source": [
    "# Prefix and Suffix for labels"
   ]
  },
  {
   "cell_type": "code",
   "execution_count": 20,
   "metadata": {
    "scrolled": true
   },
   "outputs": [
    {
     "data": {
      "text/plain": [
       "label_a    A\n",
       "label_b    B\n",
       "label_c    C\n",
       "label_d    D\n",
       "label_e    E\n",
       "label_f    F\n",
       "label_g    G\n",
       "label_h    H\n",
       "label_i    I\n",
       "label_j    J\n",
       "label_k    K\n",
       "label_l    L\n",
       "label_m    M\n",
       "label_n    N\n",
       "label_o    O\n",
       "label_p    P\n",
       "label_q    Q\n",
       "label_r    R\n",
       "label_s    S\n",
       "label_t    T\n",
       "label_u    U\n",
       "label_v    V\n",
       "label_w    W\n",
       "label_x    X\n",
       "label_y    Y\n",
       "label_z    Z\n",
       "dtype: object"
      ]
     },
     "execution_count": 20,
     "metadata": {},
     "output_type": "execute_result"
    }
   ],
   "source": [
    "alphabetLabels.add_prefix('label_')"
   ]
  },
  {
   "cell_type": "code",
   "execution_count": 22,
   "metadata": {
    "scrolled": true
   },
   "outputs": [
    {
     "data": {
      "text/plain": [
       "a_label    A\n",
       "b_label    B\n",
       "c_label    C\n",
       "d_label    D\n",
       "e_label    E\n",
       "f_label    F\n",
       "g_label    G\n",
       "h_label    H\n",
       "i_label    I\n",
       "j_label    J\n",
       "k_label    K\n",
       "l_label    L\n",
       "m_label    M\n",
       "n_label    N\n",
       "o_label    O\n",
       "p_label    P\n",
       "q_label    Q\n",
       "r_label    R\n",
       "s_label    S\n",
       "t_label    T\n",
       "u_label    U\n",
       "v_label    V\n",
       "w_label    W\n",
       "x_label    X\n",
       "y_label    Y\n",
       "z_label    Z\n",
       "dtype: object"
      ]
     },
     "execution_count": 22,
     "metadata": {},
     "output_type": "execute_result"
    }
   ],
   "source": [
    "alphabetLabels.add_suffix('_label')"
   ]
  },
  {
   "cell_type": "markdown",
   "metadata": {},
   "source": [
    "# Loc and ILoc"
   ]
  },
  {
   "cell_type": "code",
   "execution_count": 24,
   "metadata": {},
   "outputs": [
    {
     "name": "stdout",
     "output_type": "stream",
     "text": [
      "M\n",
      "a    A\n",
      "b    B\n",
      "c    C\n",
      "dtype: object\n",
      "g    G\n",
      "h    H\n",
      "i    I\n",
      "j    J\n",
      "k    K\n",
      "dtype: object\n"
     ]
    }
   ],
   "source": [
    "# Loc and ILoc are more useful when dealing with dataframes, but they can also be used with single-column series\n",
    "# Loc receives two parameters, rows and columns\n",
    "# loc(<rows>, <columns>)\n",
    "# but in the context of a series, we do not have multiple columns, so it works in the same way as bracket selection\n",
    "\n",
    "# return value from 'm' label\n",
    "print(alphabetLabels.loc['m'])\n",
    "\n",
    "# return values until 'c' label\n",
    "print(alphabetLabels.loc[:'c'])\n",
    "\n",
    "# return values between labels 'g' and 'k'\n",
    "print(alphabetLabels.loc['g':'k'])"
   ]
  },
  {
   "cell_type": "code",
   "execution_count": 51,
   "metadata": {},
   "outputs": [
    {
     "name": "stdout",
     "output_type": "stream",
     "text": [
      "G\n",
      "l    L\n",
      "m    M\n",
      "n    N\n",
      "o    O\n",
      "p    P\n",
      "q    Q\n",
      "dtype: object\n",
      "w    W\n",
      "x    X\n",
      "y    Y\n",
      "z    Z\n",
      "dtype: object\n"
     ]
    }
   ],
   "source": [
    "# ILoc works in a similar way, but using index numbers instead of labels\n",
    "# 7th element\n",
    "print(alphabetLabels.iloc[6])\n",
    "\n",
    "# elements 12-17\n",
    "print(alphabetLabels.iloc[11:17])\n",
    "\n",
    "# last 4 elements\n",
    "print(alphabetLabels.iloc[-4:])"
   ]
  },
  {
   "cell_type": "markdown",
   "metadata": {},
   "source": [
    "# Boolean Masks"
   ]
  },
  {
   "cell_type": "code",
   "execution_count": 25,
   "metadata": {},
   "outputs": [
    {
     "data": {
      "text/plain": [
       "0    0\n",
       "1    1\n",
       "2    2\n",
       "3    3\n",
       "4    4\n",
       "dtype: int64"
      ]
     },
     "execution_count": 25,
     "metadata": {},
     "output_type": "execute_result"
    }
   ],
   "source": [
    "# Providing a boolean array the same size as the series is an additional way to filter a series\n",
    "simpleNumbers = pd.Series(range(5))\n",
    "simpleNumbers"
   ]
  },
  {
   "cell_type": "code",
   "execution_count": 30,
   "metadata": {},
   "outputs": [
    {
     "name": "stdout",
     "output_type": "stream",
     "text": [
      "0    0\n",
      "2    2\n",
      "dtype: int64\n",
      "0    0\n",
      "2    2\n",
      "dtype: int64\n"
     ]
    }
   ],
   "source": [
    "# It works with bracket selection or loc\n",
    "print(simpleNumbers[[True, False, True, False, False]])\n",
    "print(simpleNumbers.loc[[True, False, True, False, False]])"
   ]
  },
  {
   "cell_type": "code",
   "execution_count": 43,
   "metadata": {},
   "outputs": [
    {
     "name": "stdout",
     "output_type": "stream",
     "text": [
      "[True, False, False, True, False, False, True, False, False, True, False, False, True, False, False, True, False, False, True, False, False, True, False, False, True, False]\n"
     ]
    },
    {
     "data": {
      "text/plain": [
       "0     a\n",
       "3     d\n",
       "6     g\n",
       "9     j\n",
       "12    m\n",
       "15    p\n",
       "18    s\n",
       "21    v\n",
       "24    y\n",
       "dtype: object"
      ]
     },
     "execution_count": 43,
     "metadata": {},
     "output_type": "execute_result"
    }
   ],
   "source": [
    "# The boolean masks may be created programatically\n",
    "# Return every 3rd letter in the alphabet series\n",
    "\n",
    "print([True if i % 3 == 0 else False for i in range(alphabet.size)])\n",
    "\n",
    "alphabet.loc[[True if i % 3 == 0 else False for i in range(alphabet.size)]]"
   ]
  },
  {
   "cell_type": "markdown",
   "metadata": {},
   "source": [
    "# Callables with Loc and ILoc"
   ]
  },
  {
   "cell_type": "code",
   "execution_count": 52,
   "metadata": {},
   "outputs": [],
   "source": [
    "# Loc and ILoc work with manual/constant parameters, but they work just as well with any kind of function\n",
    "# that would return indexes, labels or a boolean mask"
   ]
  },
  {
   "cell_type": "code",
   "execution_count": 54,
   "metadata": {},
   "outputs": [
    {
     "data": {
      "text/plain": [
       "'w'"
      ]
     },
     "execution_count": 54,
     "metadata": {},
     "output_type": "execute_result"
    }
   ],
   "source": [
    "# It can either be a regular function\n",
    "\n",
    "def returnNumber():\n",
    "    return 22\n",
    "\n",
    "alphabet[returnNumber()]"
   ]
  },
  {
   "cell_type": "code",
   "execution_count": 55,
   "metadata": {},
   "outputs": [
    {
     "data": {
      "text/plain": [
       "'p'"
      ]
     },
     "execution_count": 55,
     "metadata": {},
     "output_type": "execute_result"
    }
   ],
   "source": [
    "# Or a lambda function\n",
    "alphabet[lambda n: 15]"
   ]
  },
  {
   "cell_type": "code",
   "execution_count": 57,
   "metadata": {},
   "outputs": [
    {
     "data": {
      "text/plain": [
       "'F'"
      ]
     },
     "execution_count": 57,
     "metadata": {},
     "output_type": "execute_result"
    }
   ],
   "source": [
    "# It can return either an integer for the index, or an object for the label\n",
    "alphabetLabels[lambda label: 'f']"
   ]
  },
  {
   "cell_type": "code",
   "execution_count": 59,
   "metadata": {},
   "outputs": [
    {
     "data": {
      "text/plain": [
       "f    F\n",
       "g    G\n",
       "k    K\n",
       "z    Z\n",
       "y    Y\n",
       "dtype: object"
      ]
     },
     "execution_count": 59,
     "metadata": {},
     "output_type": "execute_result"
    }
   ],
   "source": [
    "# It can return a single value or a list\n",
    "alphabetLabels[lambda label: ['f', 'g', 'k', 'z', 'y']]"
   ]
  },
  {
   "cell_type": "code",
   "execution_count": 61,
   "metadata": {
    "scrolled": true
   },
   "outputs": [
    {
     "data": {
      "text/plain": [
       "a    A\n",
       "b    B\n",
       "c    C\n",
       "d    D\n",
       "e    E\n",
       "f    F\n",
       "g    G\n",
       "h    H\n",
       "i    I\n",
       "j    J\n",
       "k    K\n",
       "l    L\n",
       "m    M\n",
       "n    N\n",
       "o    O\n",
       "p    P\n",
       "q    Q\n",
       "r    R\n",
       "s    S\n",
       "t    T\n",
       "u    U\n",
       "v    V\n",
       "w    W\n",
       "x    X\n",
       "y    Y\n",
       "z    Z\n",
       "dtype: object"
      ]
     },
     "execution_count": 61,
     "metadata": {},
     "output_type": "execute_result"
    }
   ],
   "source": [
    "# in case of lambda functions, the argument is the series itself\n",
    "alphabetLabels[lambda series: [True for i in range(series.size)]]"
   ]
  },
  {
   "cell_type": "code",
   "execution_count": null,
   "metadata": {},
   "outputs": [],
   "source": []
  }
 ],
 "metadata": {
  "kernelspec": {
   "display_name": "Python 3",
   "language": "python",
   "name": "python3"
  },
  "language_info": {
   "codemirror_mode": {
    "name": "ipython",
    "version": 3
   },
   "file_extension": ".py",
   "mimetype": "text/x-python",
   "name": "python",
   "nbconvert_exporter": "python",
   "pygments_lexer": "ipython3",
   "version": "3.7.8"
  }
 },
 "nbformat": 4,
 "nbformat_minor": 4
}
